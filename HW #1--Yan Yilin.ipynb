{
 "cells": [
  {
   "cell_type": "code",
   "execution_count": 1,
   "metadata": {},
   "outputs": [
    {
     "name": "stdout",
     "output_type": "stream",
     "text": [
      "<class 'list'>\n"
     ]
    }
   ],
   "source": [
    "mycolors=[\"blue\",\"white\",\"black\",\"red\"] #HW Problem 1: a list of my favorite colors\n",
    "print(type(mycolors))"
   ]
  },
  {
   "cell_type": "code",
   "execution_count": 2,
   "metadata": {},
   "outputs": [
    {
     "name": "stdout",
     "output_type": "stream",
     "text": [
      "['blue', 'white', 'black', 'red']\n"
     ]
    }
   ],
   "source": [
    "print(mycolors)"
   ]
  },
  {
   "cell_type": "code",
   "execution_count": 4,
   "metadata": {},
   "outputs": [
    {
     "name": "stdout",
     "output_type": "stream",
     "text": [
      "[30, 33, 36, 39, 42, 45, 48, 51, 54, 57]\n"
     ]
    }
   ],
   "source": [
    "nums=list(range(30,60,3)) #HW Problem 2: Generate a list of numbers from 30 to 60 with interval 3, for example, 30, 33, 36, …… 60.\n",
    "print(nums)"
   ]
  },
  {
   "cell_type": "code",
   "execution_count": 8,
   "metadata": {},
   "outputs": [
    {
     "name": "stdout",
     "output_type": "stream",
     "text": [
      "{'Sunny': 'play', 'Rainy': 'watching TV', 'Cloudy': 'walk'}\n"
     ]
    }
   ],
   "source": [
    "mydict={\"Sunny\":\"play\",\n",
    "       \"Rainy\":\"watching TV\",\n",
    "       \"Cloudy\":\"walk\"} \n",
    "#HW Problem 3(1): Create the following dictionary.\n",
    "print(mydict)"
   ]
  },
  {
   "cell_type": "code",
   "execution_count": 9,
   "metadata": {},
   "outputs": [
    {
     "name": "stdout",
     "output_type": "stream",
     "text": [
      "<class 'dict'>\n"
     ]
    }
   ],
   "source": [
    "print(type(mydict))"
   ]
  },
  {
   "cell_type": "code",
   "execution_count": 11,
   "metadata": {},
   "outputs": [],
   "source": [
    "#HW Problem 3(2): Then add a new pair (“snowy”, “ski”) to your dictionary.\n",
    "mydict.update({\"snowy\":\"ski\"})"
   ]
  },
  {
   "cell_type": "code",
   "execution_count": 12,
   "metadata": {},
   "outputs": [
    {
     "name": "stdout",
     "output_type": "stream",
     "text": [
      "{'Sunny': 'play', 'Rainy': 'watching TV', 'Cloudy': 'walk', 'snowy': 'ski'}\n"
     ]
    }
   ],
   "source": [
    "print(mydict) # after adding the new pair(“snowy”, “ski”)"
   ]
  },
  {
   "cell_type": "code",
   "execution_count": 22,
   "metadata": {},
   "outputs": [
    {
     "name": "stdout",
     "output_type": "stream",
     "text": [
      "55\n"
     ]
    }
   ],
   "source": [
    "#HW Problem 4: Using If...Elif...Else to grade students' score\n",
    "#Suppose there're 5 students with different grades\n",
    "#Store the grades of all of these students\n",
    "grade=[55,65,75,85,95]\n",
    "print (grade[0])"
   ]
  },
  {
   "cell_type": "code",
   "execution_count": 38,
   "metadata": {},
   "outputs": [
    {
     "name": "stdout",
     "output_type": "stream",
     "text": [
      "75\n",
      "C\n"
     ]
    }
   ],
   "source": [
    "grade=int(input())\n",
    "\n",
    "if (grade>=90):\n",
    "    print(\"A\")\n",
    "elif (grade>=80 and grade<90):\n",
    "    print(\"B\")\n",
    "elif (grade>=70 and grade<80):\n",
    "    print(\"C\")\n",
    "else:\n",
    "    print(\"F\")"
   ]
  },
  {
   "cell_type": "code",
   "execution_count": 39,
   "metadata": {},
   "outputs": [
    {
     "name": "stdout",
     "output_type": "stream",
     "text": [
      "85\n",
      "B\n"
     ]
    }
   ],
   "source": [
    "grade=int(input())\n",
    "\n",
    "if (grade>=90):\n",
    "    print(\"A\")\n",
    "elif (grade>=80 and grade<90):\n",
    "    print(\"B\")\n",
    "elif (grade>=70 and grade<80):\n",
    "    print(\"C\")\n",
    "else:\n",
    "    print(\"F\")"
   ]
  },
  {
   "cell_type": "code",
   "execution_count": 40,
   "metadata": {},
   "outputs": [
    {
     "name": "stdout",
     "output_type": "stream",
     "text": [
      "65\n",
      "F\n"
     ]
    }
   ],
   "source": [
    "grade=int(input())\n",
    "\n",
    "if (grade>=90):\n",
    "    print(\"A\")\n",
    "elif (grade>=80 and grade<90):\n",
    "    print(\"B\")\n",
    "elif (grade>=70 and grade<80):\n",
    "    print(\"C\")\n",
    "else:\n",
    "    print(\"F\")"
   ]
  },
  {
   "cell_type": "code",
   "execution_count": 41,
   "metadata": {},
   "outputs": [
    {
     "name": "stdout",
     "output_type": "stream",
     "text": [
      "95\n",
      "A\n"
     ]
    }
   ],
   "source": [
    "grade=int(input())\n",
    "\n",
    "if (grade>=90):\n",
    "    print(\"A\")\n",
    "elif (grade>=80 and grade<90):\n",
    "    print(\"B\")\n",
    "elif (grade>=70 and grade<80):\n",
    "    print(\"C\")\n",
    "else:\n",
    "    print(\"F\")"
   ]
  },
  {
   "cell_type": "code",
   "execution_count": null,
   "metadata": {},
   "outputs": [],
   "source": []
  }
 ],
 "metadata": {
  "kernelspec": {
   "display_name": "Python 3",
   "language": "python",
   "name": "python3"
  },
  "language_info": {
   "codemirror_mode": {
    "name": "ipython",
    "version": 3
   },
   "file_extension": ".py",
   "mimetype": "text/x-python",
   "name": "python",
   "nbconvert_exporter": "python",
   "pygments_lexer": "ipython3",
   "version": "3.8.5"
  }
 },
 "nbformat": 4,
 "nbformat_minor": 4
}
