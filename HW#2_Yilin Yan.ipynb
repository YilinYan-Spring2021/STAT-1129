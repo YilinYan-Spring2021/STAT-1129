{
 "cells": [
  {
   "cell_type": "code",
   "execution_count": 1,
   "metadata": {},
   "outputs": [],
   "source": [
    "#1.\tFor all the items in your favorite color list, print out each item. (tips: create your color list first).\n",
    "favcolors=[\"blue\",\"white\",\"black\",\"red\"]\n",
    "print (type(favcolors))"
   ]
  },
  {
   "cell_type": "code",
   "execution_count": 2,
   "metadata": {},
   "outputs": [
    {
     "name": "stdout",
     "output_type": "stream",
     "text": [
      "['blue', 'white', 'black', 'red']\n"
     ]
    }
   ],
   "source": [
    "# there're several different ways to print the items in my favorite color list, one way is to print them all together:\n",
    "print(favcolors)"
   ]
  },
  {
   "cell_type": "code",
   "execution_count": 3,
   "metadata": {},
   "outputs": [
    {
     "name": "stdout",
     "output_type": "stream",
     "text": [
      "One of my favorite colors is blue\n",
      "One of my favorite colors is white\n",
      "One of my favorite colors is black\n",
      "One of my favorite colors is red\n"
     ]
    }
   ],
   "source": [
    "print(\"One of my favorite colors is\",favcolors[0])\n",
    "print(\"One of my favorite colors is\",favcolors[1])\n",
    "print(\"One of my favorite colors is\",favcolors[2])\n",
    "print(\"One of my favorite colors is\",favcolors[3])"
   ]
  },
  {
   "cell_type": "code",
   "execution_count": 4,
   "metadata": {},
   "outputs": [
    {
     "name": "stdout",
     "output_type": "stream",
     "text": [
      "blue\n",
      "white\n",
      "black\n",
      "red\n"
     ]
    }
   ],
   "source": [
    "# but there's another more convenient way to do this, and this is to print one item each time:\n",
    "# this might be a better way, please follow this to grade problem 1\n",
    "for x in favcolors:\n",
    "    print(x)"
   ]
  },
  {
   "cell_type": "code",
   "execution_count": 5,
   "metadata": {},
   "outputs": [
    {
     "name": "stdout",
     "output_type": "stream",
     "text": [
      "0\n",
      "1\n",
      "2\n",
      "3\n",
      "4\n",
      "5\n",
      "6\n",
      "7\n",
      "8\n",
      "9\n"
     ]
    }
   ],
   "source": [
    "#2.\tUsing For Loop. As long as n is less than 10, print out n. (Initialize n=0).\n",
    "n=list(range(10))\n",
    "for num in n:\n",
    "    print(num)"
   ]
  },
  {
   "cell_type": "code",
   "execution_count": 7,
   "metadata": {},
   "outputs": [
    {
     "name": "stdout",
     "output_type": "stream",
     "text": [
      "0\n",
      "1\n",
      "2\n",
      "3\n",
      "4\n",
      "5\n",
      "6\n",
      "7\n",
      "8\n",
      "9\n"
     ]
    }
   ],
   "source": [
    "#3.\tUsing While Loop. As long as n is less than 10, print out n. (Initialize n=0).\n",
    "n=0\n",
    "while n<10:\n",
    "    print(n)\n",
    "    n=n+1"
   ]
  },
  {
   "cell_type": "code",
   "execution_count": 8,
   "metadata": {},
   "outputs": [
    {
     "name": "stdout",
     "output_type": "stream",
     "text": [
      "0\n",
      "1\n",
      "2\n",
      "3\n",
      "4\n",
      "5\n",
      "6\n",
      "7\n",
      "8\n",
      "9\n",
      "10\n",
      "greater than 10\n"
     ]
    }
   ],
   "source": [
    "#4.\tUsing while loop. While n is <= 10, print out n. Otherwise, print out “greater than 10”.\n",
    "n=0\n",
    "while n<=10:\n",
    "    print(n)\n",
    "    n=n+1\n",
    "else:\n",
    "    print(\"greater than 10\")"
   ]
  },
  {
   "cell_type": "code",
   "execution_count": 9,
   "metadata": {},
   "outputs": [
    {
     "name": "stdout",
     "output_type": "stream",
     "text": [
      "The sum is 465\n"
     ]
    }
   ],
   "source": [
    "#5.\tAdd all the integers from 1 to 30, print out the sum. Using while loop. \n",
    "n=30\n",
    "sum=0\n",
    "i=1\n",
    "\n",
    "while i<=n:\n",
    "    sum=sum+i\n",
    "    i=i+1\n",
    "\n",
    "# print the sum\n",
    "print(\"The sum is\",sum)"
   ]
  }
 ],
 "metadata": {
  "kernelspec": {
   "display_name": "Python 3",
   "language": "python",
   "name": "python3"
  },
  "language_info": {
   "codemirror_mode": {
    "name": "ipython",
    "version": 3
   },
   "file_extension": ".py",
   "mimetype": "text/x-python",
   "name": "python",
   "nbconvert_exporter": "python",
   "pygments_lexer": "ipython3",
   "version": "3.8.5"
  }
 },
 "nbformat": 4,
 "nbformat_minor": 4
}
