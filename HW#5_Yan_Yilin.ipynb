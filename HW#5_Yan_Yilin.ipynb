{
 "cells": [
  {
   "cell_type": "markdown",
   "metadata": {},
   "source": [
    "# Question 1"
   ]
  },
  {
   "cell_type": "markdown",
   "metadata": {},
   "source": [
    "## (a) What does the code print out? \n",
    "### Guess first, and then write the python code and run it. (1 point)"
   ]
  },
  {
   "cell_type": "code",
   "execution_count": 1,
   "metadata": {},
   "outputs": [
    {
     "name": "stdout",
     "output_type": "stream",
     "text": [
      "5:30\n"
     ]
    }
   ],
   "source": [
    "class Clock():\n",
    "    def __init__(self,time):\n",
    "        self.time=time\n",
    "    def print_time(self):\n",
    "        time='6:30'\n",
    "        print(self.time)\n",
    "\n",
    "clock=Clock('5:30')\n",
    "clock.print_time()"
   ]
  },
  {
   "cell_type": "markdown",
   "metadata": {},
   "source": [
    "## (b) Why does the code print this? (1 point)\n",
    "Because clock is the definition of our new object. This object accepts the the parameter of '5:30', i.e. we pass '5:30' to the time parameter to initializing function in class Clock."
   ]
  },
  {
   "cell_type": "markdown",
   "metadata": {},
   "source": [
    "# Question 2"
   ]
  },
  {
   "cell_type": "markdown",
   "metadata": {},
   "source": [
    "## (a) What does the code print out? \n",
    "### Guess first, and then create a Python file and run it. (1 point)"
   ]
  },
  {
   "cell_type": "code",
   "execution_count": 2,
   "metadata": {},
   "outputs": [
    {
     "name": "stdout",
     "output_type": "stream",
     "text": [
      "10:30\n"
     ]
    }
   ],
   "source": [
    "class Clock():\n",
    "    def __init__(self,time):\n",
    "        self.time=time\n",
    "    def print_time(self,time):\n",
    "        print(time)\n",
    "        \n",
    "clock=Clock('5:30')\n",
    "clock.print_time('10:30')"
   ]
  },
  {
   "cell_type": "markdown",
   "metadata": {},
   "source": [
    "## (b) What does this tell you about giving parameters the same name as object attributes? (1 point)\n",
    "Giving parameters the same name as object attributes is really confusing. It is hard to identify which one we're calling, which may then make us easier to make mistakes."
   ]
  },
  {
   "cell_type": "markdown",
   "metadata": {},
   "source": [
    "# Question 3\n",
    "## (a) What does the code print out? \n",
    "### Guess first, and then create a Python file and run it. (1 point)"
   ]
  },
  {
   "cell_type": "code",
   "execution_count": 3,
   "metadata": {},
   "outputs": [
    {
     "name": "stdout",
     "output_type": "stream",
     "text": [
      "5:30\n",
      "10:30\n"
     ]
    }
   ],
   "source": [
    "class Clock():\n",
    "    def __init__(self,time):\n",
    "        self.time=time\n",
    "    def print_time(self):\n",
    "        print (self.time)\n",
    "\n",
    "class Clock1(Clock):\n",
    "    pass\n",
    "\n",
    "boston_clock=Clock('5:30')\n",
    "paris_clock=Clock1('10:30')\n",
    "\n",
    "boston_clock.print_time()\n",
    "paris_clock.print_time()"
   ]
  },
  {
   "cell_type": "markdown",
   "metadata": {},
   "source": [
    "## (b) Why does it print what it does?  \n",
    "### (Are Boston clock and Paris clock different objects? \n",
    "### (Why or whynot?) (1 point)\n",
    "We first define the class Clock, and then we define the class Clock1, which inherits the properties from Clock. So Clock is the parent class, and Clock1 is the child class.\n",
    "Boston clock and Paris clock are different objects because they come from the different classes."
   ]
  },
  {
   "cell_type": "markdown",
   "metadata": {},
   "source": [
    "# Question 4"
   ]
  },
  {
   "cell_type": "code",
   "execution_count": 4,
   "metadata": {},
   "outputs": [
    {
     "name": "stdout",
     "output_type": "stream",
     "text": [
      "[5, 6]\n",
      "[6, 7]\n",
      "queue is empty now.\n"
     ]
    }
   ],
   "source": [
    "class Queue(): # Create my Queue class\n",
    "    def __init__(self): # To initialize my Queue\n",
    "        self.element=[] ## Create an empty list at the beginning\n",
    "        \n",
    "    def insert(self,person): ## Inserts one element in your Queue\n",
    "        self.element.append(person)\n",
    "        \n",
    "    def empty_or_not(self):\n",
    "        if len(self.element)==0:\n",
    "            return True\n",
    "        else:\n",
    "            return False\n",
    "        \n",
    "    def remove(self): ## Removes the first element from your Queue and returns it.\n",
    "        if self.empty_or_not()==True:\n",
    "            print(\"queue is empty now.\") ## If the queue is empty, return a message that says it is empty\n",
    "        else:\n",
    "            self.element.pop(0)\n",
    "            return self.element\n",
    "    \n",
    "    def print(self): ## print out your queue\n",
    "        if self.empty_or_not()==True:\n",
    "            print(\"Queue is empty, unable to print\")\n",
    "        else:\n",
    "            print(self.element)\n",
    "    \n",
    "def main():\n",
    "    Q=Queue()\n",
    "    \n",
    "    Q.insert(5)\n",
    "    Q.insert(6)\n",
    "    Q.print()\n",
    "    \n",
    "    Q.insert(7)\n",
    "    Q.remove()\n",
    "    Q.print()\n",
    "    \n",
    "    Q.remove()\n",
    "    Q.remove()\n",
    "    Q.remove()\n",
    "    \n",
    "\n",
    "if __name__==\"__main__\":\n",
    "     main()"
   ]
  }
 ],
 "metadata": {
  "kernelspec": {
   "display_name": "Python 3",
   "language": "python",
   "name": "python3"
  },
  "language_info": {
   "codemirror_mode": {
    "name": "ipython",
    "version": 3
   },
   "file_extension": ".py",
   "mimetype": "text/x-python",
   "name": "python",
   "nbconvert_exporter": "python",
   "pygments_lexer": "ipython3",
   "version": "3.8.5"
  }
 },
 "nbformat": 4,
 "nbformat_minor": 4
}
